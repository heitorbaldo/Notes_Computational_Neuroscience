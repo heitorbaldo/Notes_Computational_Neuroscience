{
 "cells": [
  {
   "cell_type": "markdown",
   "id": "577990a4",
   "metadata": {},
   "source": [
    "# Simulation of Neural Spike Trains through Poisson Processes\n",
    "\n",
    "<hr>\n",
    "\n",
    "### Overview\n",
    "\n",
    "This notebook is based on the post [1]. Here we'll simulate neural spike trains based solely on the firing rate of a neuron. The spikes (or action potentials) are represented as black bars of a raster plot.\n",
    "\n",
    "Features of the raster plot:\n",
    "- Black bars: spikes (action potentials);\n",
    "- Rows (spike trains): spiking activity of a neuron.\n",
    "\n",
    "The simulation is based on the following explanation by Dayan and Abbott [2]:\n",
    "\n",
    "> <i>Spike sequences can be simulated by using some estimate of the firing rate, fr, predicted from knowledge of the stimulus, to drive a Poisson process. A simple procedure for generating spikes in a computer program is based on the fact that the estimated probability of firing a spike during a short interval of duration dt is fr*dt. The program progresses through time in small steps of size dt and generates, at each time step, a random number x chosen uniformly in the range between 0 and 1. If x < fr*dt at that time step, a spike is fired; otherwise it is not.</i>\n",
    "\n",
    "\n",
    "### References\n",
    "\n",
    "[1] Namburi, P. (2015). Simulating neural spike trains. (https://praneethnamburi.com/2015/02/05/simulating-neural-spike-trains)<br>\n",
    "[2] Dayan, P., & Abbott, L. F. (2005). Theoretical Neuroscience: Computational and Mathematical Modeling of Neural Systems. MIT press.\n",
    "\n",
    "\n",
    "<hr>"
   ]
  },
  {
   "cell_type": "code",
   "execution_count": 32,
   "id": "0e1d6195",
   "metadata": {},
   "outputs": [],
   "source": [
    "import numpy as np\n",
    "import pandas as pd\n",
    "import matplotlib.pyplot as plt\n",
    "%matplotlib inline"
   ]
  },
  {
   "cell_type": "markdown",
   "id": "969f615d",
   "metadata": {},
   "source": [
    "## Poisson Process"
   ]
  },
  {
   "cell_type": "code",
   "execution_count": 33,
   "id": "b27c542a",
   "metadata": {},
   "outputs": [],
   "source": [
    "def events(M):\n",
    "    E = []\n",
    "    num_rows, num_cols = M.shape\n",
    "    for i in range(num_rows):\n",
    "        events = []\n",
    "        for j in range(num_cols):\n",
    "            if M[i,j] != 0:\n",
    "                events.append(M[i,j])\n",
    "            else:\n",
    "                pass\n",
    "        E.append(events)\n",
    "    return E"
   ]
  },
  {
   "cell_type": "code",
   "execution_count": 34,
   "id": "5a4a85d5",
   "metadata": {},
   "outputs": [],
   "source": [
    "def poissonSpikeGen(fr, tSim, nTrials):\n",
    "    '''Returns an array of arrays with the firing time of each neuron.\n",
    "    Parameters\n",
    "    ---------\n",
    "    fr: (float) firing rate in Hz.\n",
    "    tSim: (float) simulation time in seconds. \n",
    "    nTrials: (integer) number of simulations.\n",
    "    '''\n",
    "    dt = 1/1000\n",
    "    nBins = round(tSim/dt)\n",
    "    spikeMat = np.random.random([nTrials, nBins]) < fr*dt #spike matrix\n",
    "    \n",
    "    num_rows, num_cols = spikeMat.shape\n",
    "    spikeMat_ft = np.zeros((num_rows, num_cols))\n",
    "    \n",
    "    tVec = np.arange(0, tSim-dt, dt) #time vector\n",
    "    \n",
    "    for i in range(num_rows):\n",
    "        for j in range(num_cols):\n",
    "            if spikeMat[i,j] == True:\n",
    "                spikeMat_ft[i,j] = tVec[j-1]\n",
    "            else:\n",
    "                spikeMat_ft[i,j] = 0\n",
    "    \n",
    "    return events(spikeMat_ft)"
   ]
  },
  {
   "cell_type": "code",
   "execution_count": 35,
   "id": "8acacea4",
   "metadata": {},
   "outputs": [],
   "source": [
    "def plotRaster(spikeMat):\n",
    "    '''Plots the raster plot.\n",
    "    Parameters\n",
    "    ---------\n",
    "    spikeMat: (array) array of arrays with the firing time of each neuron.\n",
    "    '''\n",
    "    #Spike raster plot\n",
    "    plt.figure(3,figsize=(8,4)) \n",
    "    plt.eventplot(spikeMat, color='black', linelengths=0.7)   \n",
    "    plt.title('Spike raster plot')\n",
    "    plt.xlabel('Time (s)')\n",
    "    plt.ylabel('Neuron')\n",
    "    plt.show()"
   ]
  },
  {
   "cell_type": "code",
   "execution_count": 40,
   "id": "96f5af79",
   "metadata": {},
   "outputs": [
    {
     "data": {
      "image/png": "[encoded data removed]",
      "text/plain": [
       "<Figure size 800x400 with 1 Axes>"
      ]
     },
     "metadata": {},
     "output_type": "display_data"
    }
   ],
   "source": [
    "spikeMat = poissonSpikeGen(30, 1, 8)\n",
    "plotRaster(spikeMat)"
   ]
  },
  {
   "cell_type": "markdown",
   "id": "c033d32a",
   "metadata": {},
   "source": [
    "## Random process"
   ]
  },
  {
   "cell_type": "code",
   "execution_count": 37,
   "id": "415fc199",
   "metadata": {},
   "outputs": [
    {
     "data": {
      "image/png": "[encoded data removed]",
      "text/plain": [
       "<Figure size 800x400 with 1 Axes>"
      ]
     },
     "metadata": {},
     "output_type": "display_data"
    }
   ],
   "source": [
    "#Random data to simulate spike trains\n",
    "randomSpikes = np.random.random([8, 20])\n",
    "\n",
    "#Spike raster plot\n",
    "plt.figure(3,figsize=(8,4)) \n",
    "plt.eventplot(randomSpikes, color='black', linelengths = 0.7)     \n",
    "plt.title('Spike raster plot')\n",
    "plt.xlabel('Time(s)')\n",
    "plt.ylabel('Neuron')\n",
    "plt.show()"
   ]
  },
  {
   "cell_type": "code",
   "execution_count": null,
   "id": "2e06b3e9",
   "metadata": {},
   "outputs": [],
   "source": []
  }
 ],
 "metadata": {
  "kernelspec": {
   "display_name": "Python 3 (ipykernel)",
   "language": "python",
   "name": "python3"
  },
  "language_info": {
   "codemirror_mode": {
    "name": "ipython",
    "version": 3
   },
   "file_extension": ".py",
   "mimetype": "text/x-python",
   "name": "python",
   "nbconvert_exporter": "python",
   "pygments_lexer": "ipython3",
   "version": "3.9.12"
  }
 },
 "nbformat": 4,
 "nbformat_minor": 5
}
